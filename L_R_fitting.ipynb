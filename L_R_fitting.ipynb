{
 "cells": [
  {
   "cell_type": "code",
   "execution_count": 22,
   "metadata": {},
   "outputs": [],
   "source": [
    "import pandas as pd\n",
    "import statsmodels.api as sm\n",
    "import matplotlib.pyplot as plt\n",
    "import warnings\n",
    "warnings.filterwarnings('ignore')\n",
    "pd.set_option('display.max_rows', 500)\n",
    "pd.set_option('display.max_columns', 500)"
   ]
  },
  {
   "cell_type": "code",
   "execution_count": 23,
   "metadata": {},
   "outputs": [],
   "source": [
    "#Load the model\n",
    "esb_model_results = sm.load('pickle_files/esb_results.pickle')"
   ]
  },
  {
   "cell_type": "code",
   "execution_count": 11,
   "metadata": {},
   "outputs": [
    {
     "name": "stdout",
     "output_type": "stream",
     "text": [
      "Parameters:  Intercept               -69.568885\n",
      "ptemp[T.0]               13.707387\n",
      "ptemp[T.0.019444444]     -3.750250\n",
      "ptemp[T.0.02]            75.432972\n",
      "ptemp[T.0.025]            2.546064\n",
      "                           ...    \n",
      "ptemp[T.9.975]          104.573981\n",
      "dist                      1.085053\n",
      "idling_mins              -0.000717\n",
      "speed                     1.939557\n",
      "temp                      1.075942\n",
      "Length: 1019, dtype: float64\n",
      "R2:  0.8307263505452398\n"
     ]
    }
   ],
   "source": [
    "print(\"Parameters: \", esb_model_results.params)\n",
    "print(\"R2: \", esb_model_results.rsquared)"
   ]
  },
  {
   "cell_type": "code",
   "execution_count": null,
   "metadata": {},
   "outputs": [],
   "source": [
    "#load the regional model\n",
    "model.save(\"pickle_files/esb_regional_model.pickle\")\n",
    "esb_model_results = sm.load('pickle_files/esb_results.pickle')"
   ]
  }
 ],
 "metadata": {
  "kernelspec": {
   "display_name": "Python 3",
   "language": "python",
   "name": "python3"
  },
  "language_info": {
   "codemirror_mode": {
    "name": "ipython",
    "version": 3
   },
   "file_extension": ".py",
   "mimetype": "text/x-python",
   "name": "python",
   "nbconvert_exporter": "python",
   "pygments_lexer": "ipython3",
   "version": "3.10.0"
  }
 },
 "nbformat": 4,
 "nbformat_minor": 2
}
